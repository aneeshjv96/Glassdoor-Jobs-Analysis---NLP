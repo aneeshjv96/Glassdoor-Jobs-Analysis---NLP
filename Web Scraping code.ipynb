{
 "cells": [
  {
   "cell_type": "code",
   "execution_count": 7,
   "metadata": {},
   "outputs": [
    {
     "name": "stdout",
     "output_type": "stream",
     "text": [
      " x out worked\n",
      "Progress: 0/36\n",
      "Progress: 1/36\n",
      "Progress: 2/36\n",
      "Progress: 3/36\n",
      "Progress: 4/36\n",
      "Progress: 5/36\n",
      "Progress: 6/36\n",
      " x out failed\n",
      "Progress: 7/36\n",
      "Progress: 8/36\n",
      "Progress: 9/36\n",
      "Progress: 10/36\n",
      "Progress: 11/36\n",
      "Progress: 12/36\n",
      "Progress: 13/36\n",
      " x out failed\n",
      "Progress: 14/36\n",
      "Progress: 15/36\n",
      "Progress: 16/36\n",
      "Progress: 17/36\n",
      "Progress: 18/36\n",
      "Progress: 19/36\n",
      "Progress: 20/36\n",
      " x out failed\n",
      "Progress: 21/36\n",
      "Progress: 22/36\n",
      "Progress: 23/36\n",
      "Progress: 24/36\n",
      "Progress: 25/36\n",
      "Progress: 26/36\n",
      "Progress: 27/36\n",
      " x out failed\n",
      "Progress: 28/36\n",
      "Progress: 29/36\n",
      "Progress: 30/36\n",
      "Progress: 31/36\n",
      "Progress: 32/36\n",
      "Progress: 33/36\n",
      "Progress: 34/36\n",
      " x out failed\n",
      "Progress: 35/36\n",
      "Progress: 36/36\n"
     ]
    }
   ],
   "source": [
    "import Glassdoor_scraper as gs\n",
    "import pandas as pd\n",
    "\n",
    "\n",
    "path = \"/Users/Aneesh/Desktop/chromedriver\"\n",
    "\n",
    "df = gs.get_jobs('data science', 36, False, path, 15)"
   ]
  },
  {
   "cell_type": "code",
   "execution_count": 9,
   "metadata": {},
   "outputs": [],
   "source": [
    "df.to_csv('jobs.csv')"
   ]
  },
  {
   "cell_type": "code",
   "execution_count": null,
   "metadata": {},
   "outputs": [],
   "source": []
  }
 ],
 "metadata": {
  "kernelspec": {
   "display_name": "Python 3",
   "language": "python",
   "name": "python3"
  },
  "language_info": {
   "codemirror_mode": {
    "name": "ipython",
    "version": 3
   },
   "file_extension": ".py",
   "mimetype": "text/x-python",
   "name": "python",
   "nbconvert_exporter": "python",
   "pygments_lexer": "ipython3",
   "version": "3.7.6"
  }
 },
 "nbformat": 4,
 "nbformat_minor": 4
}
