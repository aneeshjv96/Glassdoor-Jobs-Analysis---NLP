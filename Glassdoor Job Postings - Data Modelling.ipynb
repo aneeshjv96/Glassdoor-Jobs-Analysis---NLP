{
 "cells": [
  {
   "cell_type": "markdown",
   "metadata": {},
   "source": [
    "# Data Modelling\n",
    "\n",
    "\n",
    "- Importing data from the **'EDA Data.csv'** file obtained from exploration file (*That Files is also uploaded in same repository as thsi notebook*)\n",
    "\n",
    "- In this section we will run model using machine learning models to understand variation of salary with different paramerters"
   ]
  },
  {
   "cell_type": "code",
   "execution_count": 1,
   "metadata": {},
   "outputs": [
    {
     "data": {
      "text/plain": [
       "Index(['Unnamed: 0', 'Job Title', 'Job Description', 'Rating', 'Location',\n",
       "       'Headquarters', 'Size', 'Founded', 'Type of ownership', 'Industry',\n",
       "       'Sector', 'Revenue', 'Competitors', 'job_simp', 'seniority', 'hourly',\n",
       "       'employer provided', 'Avg_Salary', 'company', 'same_state', 'state',\n",
       "       'company_age', 'python_yn', 'vis_yn', 'sql_yn', 'R_yn', 'PySpark_yn',\n",
       "       'ML_yn', 'BigData_yn', 'rating', 'job_desc', 'adv_degree',\n",
       "       'compete_num'],\n",
       "      dtype='object')"
      ]
     },
     "execution_count": 1,
     "metadata": {},
     "output_type": "execute_result"
    }
   ],
   "source": [
    "# Importing libraries and Data\n",
    "import pandas as pd\n",
    "import numpy as np\n",
    "import matplotlib.pyplot as plt\n",
    "import warnings\n",
    "warnings.filterwarnings('ignore')\n",
    "\n",
    "df = pd.read_csv('EDA Data.csv')\n",
    "df.columns\n"
   ]
  },
  {
   "cell_type": "code",
   "execution_count": 2,
   "metadata": {},
   "outputs": [
    {
     "data": {
      "text/html": [
       "<div>\n",
       "<style scoped>\n",
       "    .dataframe tbody tr th:only-of-type {\n",
       "        vertical-align: middle;\n",
       "    }\n",
       "\n",
       "    .dataframe tbody tr th {\n",
       "        vertical-align: top;\n",
       "    }\n",
       "\n",
       "    .dataframe thead th {\n",
       "        text-align: right;\n",
       "    }\n",
       "</style>\n",
       "<table border=\"1\" class=\"dataframe\">\n",
       "  <thead>\n",
       "    <tr style=\"text-align: right;\">\n",
       "      <th></th>\n",
       "      <th>Avg_Salary</th>\n",
       "      <th>rating</th>\n",
       "      <th>Size</th>\n",
       "      <th>Industry</th>\n",
       "      <th>Type of ownership</th>\n",
       "      <th>Sector</th>\n",
       "      <th>Revenue</th>\n",
       "      <th>compete_num</th>\n",
       "      <th>hourly</th>\n",
       "      <th>employer provided</th>\n",
       "      <th>same_state</th>\n",
       "      <th>Location</th>\n",
       "      <th>company_age</th>\n",
       "      <th>python_yn</th>\n",
       "      <th>ML_yn</th>\n",
       "      <th>adv_degree</th>\n",
       "      <th>PySpark_yn</th>\n",
       "      <th>job_simp</th>\n",
       "      <th>seniority</th>\n",
       "    </tr>\n",
       "  </thead>\n",
       "  <tbody>\n",
       "    <tr>\n",
       "      <th>0</th>\n",
       "      <td>72.0</td>\n",
       "      <td>3.8</td>\n",
       "      <td>501 to 1000 employees</td>\n",
       "      <td>Aerospace &amp; Defense</td>\n",
       "      <td>Company - Private</td>\n",
       "      <td>Aerospace &amp; Defense</td>\n",
       "      <td>$50 to $100 million (USD)</td>\n",
       "      <td>0</td>\n",
       "      <td>0</td>\n",
       "      <td>0</td>\n",
       "      <td>0</td>\n",
       "      <td>Albuquerque, NM</td>\n",
       "      <td>47</td>\n",
       "      <td>1</td>\n",
       "      <td>1</td>\n",
       "      <td>0</td>\n",
       "      <td>0</td>\n",
       "      <td>data scientist</td>\n",
       "      <td>na</td>\n",
       "    </tr>\n",
       "    <tr>\n",
       "      <th>1</th>\n",
       "      <td>87.5</td>\n",
       "      <td>3.4</td>\n",
       "      <td>10000+ employees</td>\n",
       "      <td>Health Care Services &amp; Hospitals</td>\n",
       "      <td>Other Organization</td>\n",
       "      <td>Health Care</td>\n",
       "      <td>$2 to $5 billion (USD)</td>\n",
       "      <td>0</td>\n",
       "      <td>0</td>\n",
       "      <td>0</td>\n",
       "      <td>0</td>\n",
       "      <td>Linthicum, MD</td>\n",
       "      <td>36</td>\n",
       "      <td>1</td>\n",
       "      <td>1</td>\n",
       "      <td>0</td>\n",
       "      <td>0</td>\n",
       "      <td>data scientist</td>\n",
       "      <td>na</td>\n",
       "    </tr>\n",
       "    <tr>\n",
       "      <th>2</th>\n",
       "      <td>85.0</td>\n",
       "      <td>4.8</td>\n",
       "      <td>501 to 1000 employees</td>\n",
       "      <td>Security Services</td>\n",
       "      <td>Company - Private</td>\n",
       "      <td>Business Services</td>\n",
       "      <td>$100 to $500 million (USD)</td>\n",
       "      <td>0</td>\n",
       "      <td>0</td>\n",
       "      <td>0</td>\n",
       "      <td>1</td>\n",
       "      <td>Clearwater, FL</td>\n",
       "      <td>10</td>\n",
       "      <td>1</td>\n",
       "      <td>1</td>\n",
       "      <td>1</td>\n",
       "      <td>1</td>\n",
       "      <td>data scientist</td>\n",
       "      <td>na</td>\n",
       "    </tr>\n",
       "    <tr>\n",
       "      <th>3</th>\n",
       "      <td>76.5</td>\n",
       "      <td>3.8</td>\n",
       "      <td>1001 to 5000 employees</td>\n",
       "      <td>Energy</td>\n",
       "      <td>Government</td>\n",
       "      <td>Oil, Gas, Energy &amp; Utilities</td>\n",
       "      <td>$500 million to $1 billion (USD)</td>\n",
       "      <td>3</td>\n",
       "      <td>0</td>\n",
       "      <td>0</td>\n",
       "      <td>1</td>\n",
       "      <td>Richland, WA</td>\n",
       "      <td>55</td>\n",
       "      <td>1</td>\n",
       "      <td>1</td>\n",
       "      <td>0</td>\n",
       "      <td>0</td>\n",
       "      <td>data scientist</td>\n",
       "      <td>na</td>\n",
       "    </tr>\n",
       "    <tr>\n",
       "      <th>4</th>\n",
       "      <td>114.5</td>\n",
       "      <td>2.9</td>\n",
       "      <td>51 to 200 employees</td>\n",
       "      <td>Advertising &amp; Marketing</td>\n",
       "      <td>Company - Private</td>\n",
       "      <td>Business Services</td>\n",
       "      <td>Unknown / Non-Applicable</td>\n",
       "      <td>3</td>\n",
       "      <td>0</td>\n",
       "      <td>0</td>\n",
       "      <td>1</td>\n",
       "      <td>New York, NY</td>\n",
       "      <td>22</td>\n",
       "      <td>1</td>\n",
       "      <td>1</td>\n",
       "      <td>0</td>\n",
       "      <td>0</td>\n",
       "      <td>data scientist</td>\n",
       "      <td>na</td>\n",
       "    </tr>\n",
       "  </tbody>\n",
       "</table>\n",
       "</div>"
      ],
      "text/plain": [
       "   Avg_Salary  rating                    Size  \\\n",
       "0        72.0     3.8   501 to 1000 employees   \n",
       "1        87.5     3.4        10000+ employees   \n",
       "2        85.0     4.8   501 to 1000 employees   \n",
       "3        76.5     3.8  1001 to 5000 employees   \n",
       "4       114.5     2.9     51 to 200 employees   \n",
       "\n",
       "                           Industry   Type of ownership  \\\n",
       "0               Aerospace & Defense   Company - Private   \n",
       "1  Health Care Services & Hospitals  Other Organization   \n",
       "2                 Security Services   Company - Private   \n",
       "3                            Energy          Government   \n",
       "4           Advertising & Marketing   Company - Private   \n",
       "\n",
       "                         Sector                           Revenue  \\\n",
       "0           Aerospace & Defense         $50 to $100 million (USD)   \n",
       "1                   Health Care            $2 to $5 billion (USD)   \n",
       "2             Business Services        $100 to $500 million (USD)   \n",
       "3  Oil, Gas, Energy & Utilities  $500 million to $1 billion (USD)   \n",
       "4             Business Services          Unknown / Non-Applicable   \n",
       "\n",
       "   compete_num  hourly  employer provided  same_state         Location  \\\n",
       "0            0       0                  0           0  Albuquerque, NM   \n",
       "1            0       0                  0           0    Linthicum, MD   \n",
       "2            0       0                  0           1   Clearwater, FL   \n",
       "3            3       0                  0           1     Richland, WA   \n",
       "4            3       0                  0           1     New York, NY   \n",
       "\n",
       "   company_age  python_yn  ML_yn  adv_degree  PySpark_yn        job_simp  \\\n",
       "0           47          1      1           0           0  data scientist   \n",
       "1           36          1      1           0           0  data scientist   \n",
       "2           10          1      1           1           1  data scientist   \n",
       "3           55          1      1           0           0  data scientist   \n",
       "4           22          1      1           0           0  data scientist   \n",
       "\n",
       "  seniority  \n",
       "0        na  \n",
       "1        na  \n",
       "2        na  \n",
       "3        na  \n",
       "4        na  "
      ]
     },
     "execution_count": 2,
     "metadata": {},
     "output_type": "execute_result"
    }
   ],
   "source": [
    "# Choosing relevant columns for modelling, in reference to correlation conducted in eda file!\n",
    "\n",
    "df_model = df[['Avg_Salary','rating','Size','Industry','Type of ownership','Sector', 'Revenue','compete_num',\n",
    "            'hourly','employer provided','same_state','Location', 'company_age', 'python_yn',\n",
    "            'ML_yn','adv_degree', 'PySpark_yn','job_simp', 'seniority']]\n",
    "df_model.head()"
   ]
  },
  {
   "cell_type": "code",
   "execution_count": 3,
   "metadata": {},
   "outputs": [
    {
     "data": {
      "text/plain": [
       "(741, 339)"
      ]
     },
     "execution_count": 3,
     "metadata": {},
     "output_type": "execute_result"
    }
   ],
   "source": [
    "# Getting Dummies for strings\n",
    "\n",
    "df_dum = pd.get_dummies(df_model)\n",
    "\n",
    "df_dum.shape"
   ]
  },
  {
   "cell_type": "code",
   "execution_count": 4,
   "metadata": {},
   "outputs": [
    {
     "data": {
      "text/html": [
       "<div>\n",
       "<style scoped>\n",
       "    .dataframe tbody tr th:only-of-type {\n",
       "        vertical-align: middle;\n",
       "    }\n",
       "\n",
       "    .dataframe tbody tr th {\n",
       "        vertical-align: top;\n",
       "    }\n",
       "\n",
       "    .dataframe thead th {\n",
       "        text-align: right;\n",
       "    }\n",
       "</style>\n",
       "<table border=\"1\" class=\"dataframe\">\n",
       "  <thead>\n",
       "    <tr style=\"text-align: right;\">\n",
       "      <th></th>\n",
       "      <th>Avg_Salary</th>\n",
       "      <th>rating</th>\n",
       "      <th>compete_num</th>\n",
       "      <th>hourly</th>\n",
       "      <th>employer provided</th>\n",
       "      <th>same_state</th>\n",
       "      <th>company_age</th>\n",
       "      <th>python_yn</th>\n",
       "      <th>ML_yn</th>\n",
       "      <th>adv_degree</th>\n",
       "      <th>...</th>\n",
       "      <th>job_simp_analyst</th>\n",
       "      <th>job_simp_data engineer</th>\n",
       "      <th>job_simp_data scientist</th>\n",
       "      <th>job_simp_director</th>\n",
       "      <th>job_simp_manager</th>\n",
       "      <th>job_simp_mle</th>\n",
       "      <th>job_simp_na</th>\n",
       "      <th>seniority_jr</th>\n",
       "      <th>seniority_na</th>\n",
       "      <th>seniority_senior</th>\n",
       "    </tr>\n",
       "  </thead>\n",
       "  <tbody>\n",
       "    <tr>\n",
       "      <th>0</th>\n",
       "      <td>72.0</td>\n",
       "      <td>3.8</td>\n",
       "      <td>0</td>\n",
       "      <td>0</td>\n",
       "      <td>0</td>\n",
       "      <td>0</td>\n",
       "      <td>47</td>\n",
       "      <td>1</td>\n",
       "      <td>1</td>\n",
       "      <td>0</td>\n",
       "      <td>...</td>\n",
       "      <td>0</td>\n",
       "      <td>0</td>\n",
       "      <td>1</td>\n",
       "      <td>0</td>\n",
       "      <td>0</td>\n",
       "      <td>0</td>\n",
       "      <td>0</td>\n",
       "      <td>0</td>\n",
       "      <td>1</td>\n",
       "      <td>0</td>\n",
       "    </tr>\n",
       "    <tr>\n",
       "      <th>1</th>\n",
       "      <td>87.5</td>\n",
       "      <td>3.4</td>\n",
       "      <td>0</td>\n",
       "      <td>0</td>\n",
       "      <td>0</td>\n",
       "      <td>0</td>\n",
       "      <td>36</td>\n",
       "      <td>1</td>\n",
       "      <td>1</td>\n",
       "      <td>0</td>\n",
       "      <td>...</td>\n",
       "      <td>0</td>\n",
       "      <td>0</td>\n",
       "      <td>1</td>\n",
       "      <td>0</td>\n",
       "      <td>0</td>\n",
       "      <td>0</td>\n",
       "      <td>0</td>\n",
       "      <td>0</td>\n",
       "      <td>1</td>\n",
       "      <td>0</td>\n",
       "    </tr>\n",
       "    <tr>\n",
       "      <th>2</th>\n",
       "      <td>85.0</td>\n",
       "      <td>4.8</td>\n",
       "      <td>0</td>\n",
       "      <td>0</td>\n",
       "      <td>0</td>\n",
       "      <td>1</td>\n",
       "      <td>10</td>\n",
       "      <td>1</td>\n",
       "      <td>1</td>\n",
       "      <td>1</td>\n",
       "      <td>...</td>\n",
       "      <td>0</td>\n",
       "      <td>0</td>\n",
       "      <td>1</td>\n",
       "      <td>0</td>\n",
       "      <td>0</td>\n",
       "      <td>0</td>\n",
       "      <td>0</td>\n",
       "      <td>0</td>\n",
       "      <td>1</td>\n",
       "      <td>0</td>\n",
       "    </tr>\n",
       "    <tr>\n",
       "      <th>3</th>\n",
       "      <td>76.5</td>\n",
       "      <td>3.8</td>\n",
       "      <td>3</td>\n",
       "      <td>0</td>\n",
       "      <td>0</td>\n",
       "      <td>1</td>\n",
       "      <td>55</td>\n",
       "      <td>1</td>\n",
       "      <td>1</td>\n",
       "      <td>0</td>\n",
       "      <td>...</td>\n",
       "      <td>0</td>\n",
       "      <td>0</td>\n",
       "      <td>1</td>\n",
       "      <td>0</td>\n",
       "      <td>0</td>\n",
       "      <td>0</td>\n",
       "      <td>0</td>\n",
       "      <td>0</td>\n",
       "      <td>1</td>\n",
       "      <td>0</td>\n",
       "    </tr>\n",
       "    <tr>\n",
       "      <th>4</th>\n",
       "      <td>114.5</td>\n",
       "      <td>2.9</td>\n",
       "      <td>3</td>\n",
       "      <td>0</td>\n",
       "      <td>0</td>\n",
       "      <td>1</td>\n",
       "      <td>22</td>\n",
       "      <td>1</td>\n",
       "      <td>1</td>\n",
       "      <td>0</td>\n",
       "      <td>...</td>\n",
       "      <td>0</td>\n",
       "      <td>0</td>\n",
       "      <td>1</td>\n",
       "      <td>0</td>\n",
       "      <td>0</td>\n",
       "      <td>0</td>\n",
       "      <td>0</td>\n",
       "      <td>0</td>\n",
       "      <td>1</td>\n",
       "      <td>0</td>\n",
       "    </tr>\n",
       "  </tbody>\n",
       "</table>\n",
       "<p>5 rows × 339 columns</p>\n",
       "</div>"
      ],
      "text/plain": [
       "   Avg_Salary  rating  compete_num  hourly  employer provided  same_state  \\\n",
       "0        72.0     3.8            0       0                  0           0   \n",
       "1        87.5     3.4            0       0                  0           0   \n",
       "2        85.0     4.8            0       0                  0           1   \n",
       "3        76.5     3.8            3       0                  0           1   \n",
       "4       114.5     2.9            3       0                  0           1   \n",
       "\n",
       "   company_age  python_yn  ML_yn  adv_degree  ...  job_simp_analyst  \\\n",
       "0           47          1      1           0  ...                 0   \n",
       "1           36          1      1           0  ...                 0   \n",
       "2           10          1      1           1  ...                 0   \n",
       "3           55          1      1           0  ...                 0   \n",
       "4           22          1      1           0  ...                 0   \n",
       "\n",
       "   job_simp_data engineer  job_simp_data scientist  job_simp_director  \\\n",
       "0                       0                        1                  0   \n",
       "1                       0                        1                  0   \n",
       "2                       0                        1                  0   \n",
       "3                       0                        1                  0   \n",
       "4                       0                        1                  0   \n",
       "\n",
       "   job_simp_manager  job_simp_mle  job_simp_na  seniority_jr  seniority_na  \\\n",
       "0                 0             0            0             0             1   \n",
       "1                 0             0            0             0             1   \n",
       "2                 0             0            0             0             1   \n",
       "3                 0             0            0             0             1   \n",
       "4                 0             0            0             0             1   \n",
       "\n",
       "   seniority_senior  \n",
       "0                 0  \n",
       "1                 0  \n",
       "2                 0  \n",
       "3                 0  \n",
       "4                 0  \n",
       "\n",
       "[5 rows x 339 columns]"
      ]
     },
     "execution_count": 4,
     "metadata": {},
     "output_type": "execute_result"
    }
   ],
   "source": [
    "df_dum.head()"
   ]
  },
  {
   "cell_type": "code",
   "execution_count": 5,
   "metadata": {},
   "outputs": [],
   "source": [
    "# Generating train and test values split using sklearn's train test split library\n",
    "\n",
    "from sklearn.model_selection import train_test_split\n",
    "\n",
    "x = df_dum.drop(['Avg_Salary'],axis = 1)\n",
    "y = df_dum.Avg_Salary.values\n",
    "x_train, x_test, y_train, y_test = train_test_split(x,y, test_size = 0.2, random_state = 42)"
   ]
  },
  {
   "cell_type": "code",
   "execution_count": 6,
   "metadata": {},
   "outputs": [],
   "source": [
    "# Linear Regression in StatsModels \n",
    "\n",
    "import statsmodels.api as sm\n",
    "x = sm.add_constant(x) # adding a constant\n",
    "\n",
    "\n",
    "model = sm.OLS(y, x).fit()\n",
    "predictions = model.predict(x)\n",
    "\n",
    "print_model = model.summary()\n",
    "\n",
    "\n",
    "# If P>|t| values present there are more than 0.05 the columns stands as a non significant column!"
   ]
  },
  {
   "cell_type": "code",
   "execution_count": 7,
   "metadata": {},
   "outputs": [
    {
     "name": "stdout",
     "output_type": "stream",
     "text": [
      "r2 value for linear regression: -6112644871854929.0\n",
      "cross validation score for lin. reg.: -8186067154.25883\n"
     ]
    }
   ],
   "source": [
    "# Multi-Variable Linear Regression through Sklearn\n",
    "\n",
    "from sklearn.linear_model import LinearRegression\n",
    "from sklearn.model_selection import cross_val_score \n",
    "# Cross Val Score takes samples from the data, run and evaluates the model\n",
    "\n",
    "lr = LinearRegression()\n",
    "\n",
    "lr.fit(x_train,y_train)\n",
    "\n",
    "print('r2 value for linear regression:',lr.score(x_test,y_test))\n",
    "\n",
    "print('cross validation score for lin. reg.:'\n",
    "      , np.mean(cross_val_score(lr,x_train,y_train,scoring = 'neg_mean_absolute_error', cv = 3)))\n",
    "\n",
    "\n",
    "# The returned r2 Valuess are dimensionally so large and we performed cross validation library to understand data \n",
    "# the mean r2 fo sample staken by machine yieled yet again a dimensionally larget number!\n",
    "\n",
    "# The data set isnt large enough for the linear model to run and retrun the desired values"
   ]
  },
  {
   "cell_type": "code",
   "execution_count": 8,
   "metadata": {},
   "outputs": [
    {
     "data": {
      "text/plain": [
       "-19.233363872504597"
      ]
     },
     "execution_count": 8,
     "metadata": {},
     "output_type": "execute_result"
    }
   ],
   "source": [
    "# Now we normalise the values using lasso regression technique\n",
    "\n",
    "from sklearn.linear_model import Lasso\n",
    "from sklearn import datasets, linear_model\n",
    "from sklearn.model_selection import cross_val_score\n",
    "la = Lasso(alpha = 0.03)\n",
    "\n",
    "la.fit(x_train,y_train)\n",
    "np.mean(cross_val_score(la,x_train,y_train,cv = 3, scoring = 'neg_mean_absolute_error'))\n"
   ]
  },
  {
   "cell_type": "code",
   "execution_count": 9,
   "metadata": {},
   "outputs": [],
   "source": [
    "alpha = []\n",
    "error = []\n",
    "\n",
    "for i in range (1,1000):\n",
    "    alpha.append(i/100)\n",
    "    la2 = Lasso(alpha=(i/100)) \n",
    "    error.append(np.mean(cross_val_score(la2,x_train,y_train,cv = 3, scoring = 'neg_mean_absolute_error')))\n"
   ]
  },
  {
   "cell_type": "code",
   "execution_count": 10,
   "metadata": {},
   "outputs": [
    {
     "data": {
      "text/plain": [
       "[<matplotlib.lines.Line2D at 0x1a1bc5c950>]"
      ]
     },
     "execution_count": 10,
     "metadata": {},
     "output_type": "execute_result"
    },
    {
     "data": {
      "image/png": "[encoded data removed]",
      "text/plain": [
       "<Figure size 432x288 with 1 Axes>"
      ]
     },
     "metadata": {
      "needs_background": "light"
     },
     "output_type": "display_data"
    }
   ],
   "source": [
    "plt.plot(alpha,error)"
   ]
  },
  {
   "cell_type": "code",
   "execution_count": 11,
   "metadata": {},
   "outputs": [
    {
     "data": {
      "text/html": [
       "<div>\n",
       "<style scoped>\n",
       "    .dataframe tbody tr th:only-of-type {\n",
       "        vertical-align: middle;\n",
       "    }\n",
       "\n",
       "    .dataframe tbody tr th {\n",
       "        vertical-align: top;\n",
       "    }\n",
       "\n",
       "    .dataframe thead th {\n",
       "        text-align: right;\n",
       "    }\n",
       "</style>\n",
       "<table border=\"1\" class=\"dataframe\">\n",
       "  <thead>\n",
       "    <tr style=\"text-align: right;\">\n",
       "      <th></th>\n",
       "      <th>alpha</th>\n",
       "      <th>error</th>\n",
       "    </tr>\n",
       "  </thead>\n",
       "  <tbody>\n",
       "    <tr>\n",
       "      <th>2</th>\n",
       "      <td>0.03</td>\n",
       "      <td>-19.233364</td>\n",
       "    </tr>\n",
       "  </tbody>\n",
       "</table>\n",
       "</div>"
      ],
      "text/plain": [
       "   alpha      error\n",
       "2   0.03 -19.233364"
      ]
     },
     "execution_count": 11,
     "metadata": {},
     "output_type": "execute_result"
    }
   ],
   "source": [
    "err = tuple(zip(alpha,error))\n",
    "\n",
    "df_err = pd.DataFrame(err, columns = ['alpha','error'])\n",
    "df_err[df_err.error == max(df_err.error)]\n",
    "\n",
    "# This shows that our error value is minimum(as values are negative) at alpha value = 0.03\n",
    "# at -19.233 model already at a better position than in linear regression model!"
   ]
  },
  {
   "cell_type": "code",
   "execution_count": 12,
   "metadata": {},
   "outputs": [
    {
     "name": "stdout",
     "output_type": "stream",
     "text": [
      "-14.433195080520653\n",
      "0.9603181705055517\n",
      "0.8065435068514394\n"
     ]
    }
   ],
   "source": [
    "# Trying Random Forest regression model for our data\n",
    "\n",
    "from sklearn.ensemble import RandomForestRegressor\n",
    "from sklearn.metrics import mean_squared_error\n",
    "\n",
    "rf = RandomForestRegressor() \n",
    "\n",
    "rf.fit(x_train,y_train)\n",
    "\n",
    "print(np.mean(cross_val_score(rf,x_train,y_train,cv = 5, scoring = 'neg_mean_absolute_error')))\n",
    "print(rf.score(x_train, y_train))\n",
    "print(rf.score(x_test, y_test))\n",
    "y_pred = rf.predict(x_test)\n",
    "\n",
    "\n",
    "# Random Forest model returned a better error score than lasso normalised score"
   ]
  },
  {
   "cell_type": "code",
   "execution_count": 13,
   "metadata": {},
   "outputs": [
    {
     "data": {
      "text/plain": [
       "GridSearchCV(cv=5, error_score=nan,\n",
       "             estimator=RandomForestRegressor(bootstrap=True, ccp_alpha=0.0,\n",
       "                                             criterion='mse', max_depth=None,\n",
       "                                             max_features='auto',\n",
       "                                             max_leaf_nodes=None,\n",
       "                                             max_samples=None,\n",
       "                                             min_impurity_decrease=0.0,\n",
       "                                             min_impurity_split=None,\n",
       "                                             min_samples_leaf=1,\n",
       "                                             min_samples_split=2,\n",
       "                                             min_weight_fraction_leaf=0.0,\n",
       "                                             n_estimators=100, n_jobs=None,\n",
       "                                             oob_score=False, random_state=None,\n",
       "                                             verbose=0, warm_start=False),\n",
       "             iid='deprecated', n_jobs=None,\n",
       "             param_grid={'criterion': ('mse', 'moe'),\n",
       "                         'max_features': ('auto', 'sqrt', 'log2'),\n",
       "                         'n_estimators': range(10, 300, 10)},\n",
       "             pre_dispatch='2*n_jobs', refit=True, return_train_score=False,\n",
       "             scoring='neg_mean_absolute_error', verbose=0)"
      ]
     },
     "execution_count": 13,
     "metadata": {},
     "output_type": "execute_result"
    }
   ],
   "source": [
    "# GridsearchCV - Tuning Models\n",
    "# Hyper parameter tuning will be done now to understand which parameter of random rorest gives us the best score\n",
    "\n",
    "from sklearn.model_selection import GridSearchCV\n",
    "parameters = {'n_estimators':range (10,300,10), 'criterion':('mse','moe'), 'max_features':('auto','sqrt','log2')}\n",
    "# Trying different parameters possible in order to get a better result\n",
    "\n",
    "gs = GridSearchCV(rf, parameters, cv = 5, scoring = 'neg_mean_absolute_error')\n",
    "\n",
    "gs.fit(x_train,y_train)"
   ]
  },
  {
   "cell_type": "code",
   "execution_count": 14,
   "metadata": {},
   "outputs": [
    {
     "data": {
      "text/plain": [
       "-13.832716616948037"
      ]
     },
     "execution_count": 14,
     "metadata": {},
     "output_type": "execute_result"
    }
   ],
   "source": [
    "# Best score\n",
    "gs.best_score_"
   ]
  },
  {
   "cell_type": "code",
   "execution_count": 15,
   "metadata": {},
   "outputs": [
    {
     "data": {
      "text/plain": [
       "RandomForestRegressor(bootstrap=True, ccp_alpha=0.0, criterion='mse',\n",
       "                      max_depth=None, max_features='sqrt', max_leaf_nodes=None,\n",
       "                      max_samples=None, min_impurity_decrease=0.0,\n",
       "                      min_impurity_split=None, min_samples_leaf=1,\n",
       "                      min_samples_split=2, min_weight_fraction_leaf=0.0,\n",
       "                      n_estimators=290, n_jobs=None, oob_score=False,\n",
       "                      random_state=None, verbose=0, warm_start=False)"
      ]
     },
     "execution_count": 15,
     "metadata": {},
     "output_type": "execute_result"
    }
   ],
   "source": [
    "# Parameters at best score\n",
    "gs.best_estimator_"
   ]
  },
  {
   "cell_type": "code",
   "execution_count": 16,
   "metadata": {},
   "outputs": [
    {
     "name": "stdout",
     "output_type": "stream",
     "text": [
      "Mean Absolute error in Linear Regression : 711318647.0331476\n",
      "Mean Absolute error in Lasso Normalised Linear Model: 16.686390123971524\n",
      "Mean Absolute error in Random Forest : 11.654949884837066\n",
      "Average Mean Absolute error from lasso and Random Forest models : 12.943514599704455\n"
     ]
    }
   ],
   "source": [
    "# test ensembles \n",
    "tpred_la = lr.predict(x_test)\n",
    "tpred_la2 = la.predict(x_test) # Test prediction using lass normalised linear fit\n",
    "tpred_rf = gs.best_estimator_.predict(x_test) \n",
    "# Test prediction using bets parameters found in gridserach cv of random forest\n",
    "\n",
    "from sklearn.metrics import mean_absolute_error\n",
    "\n",
    "print('Mean Absolute error in Linear Regression :',mean_absolute_error(y_test,tpred_la))\n",
    "print('Mean Absolute error in Lasso Normalised Linear Model:',mean_absolute_error(y_test,tpred_la2))\n",
    "print('Mean Absolute error in Random Forest :',mean_absolute_error(y_test,tpred_rf))\n",
    "print('Average Mean Absolute error from lasso and Random Forest models :',mean_absolute_error(y_test,(tpred_la2+tpred_rf)/2))"
   ]
  }
 ],
 "metadata": {
  "kernelspec": {
   "display_name": "Python 3",
   "language": "python",
   "name": "python3"
  },
  "language_info": {
   "codemirror_mode": {
    "name": "ipython",
    "version": 3
   },
   "file_extension": ".py",
   "mimetype": "text/x-python",
   "name": "python",
   "nbconvert_exporter": "python",
   "pygments_lexer": "ipython3",
   "version": "3.7.6"
  }
 },
 "nbformat": 4,
 "nbformat_minor": 4
}
